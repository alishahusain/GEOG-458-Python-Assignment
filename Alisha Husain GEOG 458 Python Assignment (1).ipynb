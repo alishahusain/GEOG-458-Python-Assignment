{
 "cells": [
  {
   "cell_type": "markdown",
   "metadata": {},
   "source": [
    "### Alisha Husain "
   ]
  },
  {
   "cell_type": "markdown",
   "metadata": {},
   "source": [
    "## Part 1\n",
    "#### Task 1\n",
    "<p> The jupyter notebook titled \"Warming of The Oceans\" uses data from the Earth System Research Laboratory to produce a graph that is used in an article in the Scientific American journal. I find thise notebook interesting because I have heard of people using Python to create detailed and visually pleasing visualizations that combine data and graphics, but did not exactly know how that was done. This notebook can be accessed [here.](https://nbviewer.jupyter.org/github/robertodealmeida/notebooks/blob/master/scientific_american/Scientific%20American%20graph.ipynb) </p> \n"
   ]
  },
  {
   "cell_type": "markdown",
   "metadata": {},
   "source": [
    "#### Task 2\n",
    "<p> 1A) One of the most popular Python libraries according to medium.com and pythontips.com is Requests, an HTTP library that makes HTTP requests simpler and more human-friendly; With it, you can add content like headers, form data, multipart files, and parameters via simple Python libraries. The Requests library can be accessed [here](http://docs.python-requests.org/en/master/) and additional information can be found [here](https://www.pythonforbeginners.com/requests/using-requests-in-python) </p>\n"
   ]
  },
  {
   "cell_type": "markdown",
   "metadata": {},
   "source": [
    "Another popular Python library is Scrapy, which contains everything you may need for webscraping. This open source and collaborative framework can be accessed [here.](https://scrapy.org/)\n"
   ]
  },
  {
   "cell_type": "markdown",
   "metadata": {},
   "source": [
    "1B) If you're looking for a Python package that allows you to accomplish similiar things as ggplot on R, the plotnine package is a good alternative, which you can access [here.](https://plotnine.readthedocs.io/en/stable/#)"
   ]
  },
  {
   "cell_type": "markdown",
   "metadata": {},
   "source": [
    "1C) If you're looking for a Python library for data analysis that uses something like dataframes in R, Pandas is recommended. Like R, the most used data structure in pandas is dataframe. Pandas is known as \"the most powerful library for data manipulation\", and can be accessed [here.](http://pandas.pydata.org/)"
   ]
  },
  {
   "cell_type": "markdown",
   "metadata": {},
   "source": [
    "#### Task 3\n",
    "There are several differences between r and Python. Firstly, they use indexing differently: In Python, indexing starts at 0, and when subsetting the second integer in the range is non-inclusive. In R, indexing starts at 1, and the range that specified while subsetting is the exact range of the output. Secondly, in Python, the assignment operator is =, but in R the assignment operator is <-. Thirdly, the syntax used to use methods are different: for example, for displaying a histogram, in R you would write hist(Variable) but in Pyton you would write plt.hist(Variable) and then plt.show() to display the actual histogram. "
   ]
  },
  {
   "cell_type": "markdown",
   "metadata": {},
   "source": [
    "## Part 2: Strings and Basic Syntax\n",
    "\n"
   ]
  },
  {
   "cell_type": "markdown",
   "metadata": {},
   "source": [
    "### Task 4 and 5: Creating and Manipulating Objects"
   ]
  },
  {
   "cell_type": "code",
   "execution_count": 16,
   "metadata": {},
   "outputs": [
    {
     "name": "stdout",
     "output_type": "stream",
     "text": [
      "My name is Alisha. \n",
      "My name is Alisha. I am 21 years old.\n",
      "MY NAME IS ALISHA. I AM 21 YEARS OLD.\n"
     ]
    }
   ],
   "source": [
    "a = \"My\"\n",
    "b = \"name\"\n",
    "c = \"is\"\n",
    "d = \"Alisha.\"\n",
    "print(a + \" \" + b + \" \" + c + \" \" + d + \" \")\n",
    "e = \"I am\"\n",
    "f = 21\n",
    "g = \"years old.\"\n",
    "mytext = a + \" \" + b + \" \" + c + \" \" + d + \" \" + e + \" \" + str(f) + \" \" + g\n",
    "print(mytext)\n",
    "print(mytext.upper())"
   ]
  },
  {
   "cell_type": "markdown",
   "metadata": {},
   "source": [
    "### Task 6 - 9: Creating and Manipulating List Objects"
   ]
  },
  {
   "cell_type": "code",
   "execution_count": 15,
   "metadata": {},
   "outputs": [
    {
     "name": "stdout",
     "output_type": "stream",
     "text": [
      "My name is Alisha. \n",
      "My name is Alisha. I am 21 years old.\n",
      "2\n",
      "11\n",
      "My name is Alisha.\n",
      "My name is Alisha. I am  years old.\n",
      "['My', 'name', 'is', 'Alisha.', 'I', 'am', '', 'years', 'old.']\n"
     ]
    }
   ],
   "source": [
    "a = \"My\"\n",
    "b = \"name\"\n",
    "c = \"is\"\n",
    "d = \"Alisha.\"\n",
    "print(a + \" \" + b + \" \" + c + \" \" + d + \" \")\n",
    "e = \"I am\"\n",
    "f = 21\n",
    "g = \"years old.\"\n",
    "\n",
    "sentence = [a, b, c, d, e, str(f), g]\n",
    "sentence_spacing = \" \"\n",
    "complete_string = sentence_spacing.join(sentence)\n",
    "print(complete_string)\n",
    "print(complete_string.count(\"y\"))\n",
    "print(complete_string.find(\"Alisha\"))\n",
    "print(complete_string[0:18])\n",
    "\n",
    "complete_string = complete_string.replace(\"21\", '')\n",
    "print(complete_string)\n",
    "\n",
    "new_string = complete_string.split(\" \")\n",
    "print(new_string)\n",
    "\n",
    "new_string.insert(7, \"over 18\")"
   ]
  },
  {
   "cell_type": "markdown",
   "metadata": {},
   "source": [
    "## Part 3: Conditionals\n",
    "### Task 10: Random Integers and If Statements"
   ]
  },
  {
   "cell_type": "code",
   "execution_count": 13,
   "metadata": {},
   "outputs": [
    {
     "name": "stdout",
     "output_type": "stream",
     "text": [
      "81\n",
      "4th Quartile\n"
     ]
    }
   ],
   "source": [
    "import random\n",
    "x = random.randint(1, 100)\n",
    "print(x)\n",
    "if x <= 25:\n",
    "    print(\"1st Quartile\")\n",
    "if  50 >= x > 25:\n",
    "    print(\"2nd Quartile\")\n",
    "if  50 < x <= 75:\n",
    "    print(\"3rd Quartile\")\n",
    "if 75 < x <= 100:\n",
    "    print(\"4th Quartile\")"
   ]
  },
  {
   "cell_type": "markdown",
   "metadata": {},
   "source": [
    "## Part 4: Loops\n",
    "### Task 11: For loops"
   ]
  },
  {
   "cell_type": "code",
   "execution_count": 12,
   "metadata": {},
   "outputs": [
    {
     "name": "stdout",
     "output_type": "stream",
     "text": [
      "Warning, residents of Chicago, temperatures will reach sub-zero temperatures today, please stay indoors if possible\n",
      "Warning, residents of New York, temperatures will reach sub-zero temperatures today, please stay indoors if possible\n",
      "Warning, residents of Boston, temperatures will reach sub-zero temperatures today, please stay indoors if possible\n",
      "Warning, residents of Detroit, temperatures will reach sub-zero temperatures today, please stay indoors if possible\n",
      "Warning, residents of Seattle, temperatures will reach sub-zero temperatures today, please stay indoors if possible\n",
      "Warning, residents of Los Angeles, temperatures will reach sub-zero temperatures today, please stay indoors if possible\n"
     ]
    }
   ],
   "source": [
    "cities = [\"Chicago\", \"New York\", \"Boston\", \"Detroit\", \"Seattle\", \"Los Angeles\"]\n",
    "for city in cities:\n",
    "    print(\"Warning, residents of \" + city + \", temperatures will reach sub-zero temperatures today, please stay indoors if possible\")"
   ]
  },
  {
   "cell_type": "markdown",
   "metadata": {},
   "source": [
    "### Task 12: For Loops and List Objects"
   ]
  },
  {
   "cell_type": "code",
   "execution_count": 11,
   "metadata": {},
   "outputs": [
    {
     "name": "stdout",
     "output_type": "stream",
     "text": [
      "U://Users/Zhang/Geog_458/Washington.shp\n",
      "U://Users/Zhang/Geog_458/California.shp\n",
      "U://Users/Zhang/Geog_458/Nevada.shp\n",
      "U://Users/Zhang/Geog_458/Idaho.shp\n",
      "U://Users/Zhang/Geog_458/Montana.shp\n",
      "U://Users/Zhang/Geog_458/Utah.shp\n",
      "U://Users/Zhang/Geog_458/Colorado.shp\n",
      "U://Users/Zhang/Geog_458/New Mexico.shp\n"
     ]
    }
   ],
   "source": [
    "listobject = []\n",
    "states = [\"Washington\", \"California\", \"Nevada\", \"Idaho\", \"Montana\", \"Utah\", \"Colorado\", \"New Mexico\"]\n",
    "for state in states:\n",
    "    listobject = print(\"U://Users/Zhang/Geog_458/\" + state + \".shp\")"
   ]
  },
  {
   "cell_type": "markdown",
   "metadata": {},
   "source": [
    "### Task 13: While Loops"
   ]
  },
  {
   "cell_type": "code",
   "execution_count": 2,
   "metadata": {},
   "outputs": [
    {
     "name": "stdout",
     "output_type": "stream",
     "text": [
      "T-minus 10\n",
      "T-minus 9\n",
      "T-minus 8\n",
      "T-minus 7\n",
      "T-minus 6\n",
      "T-minus 5\n",
      "T-minus 4\n",
      "T-minus 3\n",
      "T-minus 2\n",
      "T-minus 1\n",
      "T-minus 0\n"
     ]
    }
   ],
   "source": [
    "i = 10\n",
    "while i >= 0:\n",
    "    print(\"T-minus \" + str(i))\n",
    "    i = i - 1\n"
   ]
  },
  {
   "cell_type": "markdown",
   "metadata": {},
   "source": [
    "## Part 5: Functions\n",
    "### Task 14: Countdown Function"
   ]
  },
  {
   "cell_type": "code",
   "execution_count": 3,
   "metadata": {
    "scrolled": true
   },
   "outputs": [
    {
     "name": "stdout",
     "output_type": "stream",
     "text": [
      "T-minus 9\n",
      "T-minus 8\n",
      "T-minus 7\n",
      "T-minus 6\n",
      "T-minus 5\n",
      "T-minus 4\n",
      "T-minus 3\n",
      "T-minus 2\n",
      "T-minus 1\n",
      "T-minus 0\n"
     ]
    }
   ],
   "source": [
    "def countdown(i):\n",
    "    while i >= 0:\n",
    "        print(\"T-minus \" + str(i))\n",
    "        i = i - 1\n",
    "\n",
    "countdown(9)"
   ]
  },
  {
   "cell_type": "markdown",
   "metadata": {},
   "source": [
    "### Task 15: Quartile Function"
   ]
  },
  {
   "cell_type": "code",
   "execution_count": 10,
   "metadata": {},
   "outputs": [
    {
     "name": "stdout",
     "output_type": "stream",
     "text": [
      "11\n",
      "1st Quartile\n"
     ]
    }
   ],
   "source": [
    "def quartile_calc():\n",
    "    num = int(input())\n",
    "    if num <= 25:\n",
    "        print(\"1st Quartile\")\n",
    "    elif  50 >= num > 25:\n",
    "        print(\"2nd Quartile\")\n",
    "    elif  50 < num <= 75:\n",
    "        print(\"3rd Quartile\")\n",
    "    elif 75 < num <= 100:\n",
    "        print(\"4th Quartile\")\n",
    "    else:\n",
    "        print(\"Error\")\n",
    "\n",
    "quartile_calc()"
   ]
  }
 ],
 "metadata": {
  "kernelspec": {
   "display_name": "Python 3",
   "language": "python",
   "name": "python3"
  },
  "language_info": {
   "codemirror_mode": {
    "name": "ipython",
    "version": 3
   },
   "file_extension": ".py",
   "mimetype": "text/x-python",
   "name": "python",
   "nbconvert_exporter": "python",
   "pygments_lexer": "ipython3",
   "version": "3.6.5"
  }
 },
 "nbformat": 4,
 "nbformat_minor": 2
}
